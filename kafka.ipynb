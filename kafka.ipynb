{
 "cells": [
  {
   "cell_type": "code",
   "execution_count": 1,
   "id": "b62bc80a-6c46-4f39-a6a3-329f0803b7dd",
   "metadata": {},
   "outputs": [],
   "source": [
    "import websocket\n",
    "import json"
   ]
  },
  {
   "cell_type": "code",
   "execution_count": 2,
   "id": "f06bc643-8201-443f-a6c0-b4a00830d1ef",
   "metadata": {},
   "outputs": [],
   "source": [
    "servers = 'localhost:9092'\n",
    "from kafka import KafkaProducer"
   ]
  },
  {
   "cell_type": "code",
   "execution_count": null,
   "id": "fc41cb81-025f-4bbf-ae0a-5e2288a849f9",
   "metadata": {},
   "outputs": [],
   "source": [
    "kafka_topic = 'binance_tickers'"
   ]
  },
  {
   "cell_type": "code",
   "execution_count": null,
   "id": "a8a4ccef-a62e-4825-990c-7cb8839f281f",
   "metadata": {},
   "outputs": [],
   "source": [
    "base_url = \"wss://stream.binance.com:9443/ws\"\n",
    "\n",
    "top_usdt_pairs = [\n",
    "    \"BTCUSDT\", \"ETHUSDT\", \"BNBUSDT\", \"XRPUSDT\", \"ADAUSDT\",\n",
    "    \"SOLUSDT\", \"DOGEUSDT\", \"DOTUSDT\", \"MATICUSDT\", \"TRXUSDT\",\n",
    "    \"LTCUSDT\", \"BCHUSDT\", \"LINKUSDT\", \"ETCUSDT\", \"AVAXUSDT\",\n",
    "    \"SHIBUSDT\", \"UNIUSDT\", \"XLMUSDT\", \"FILUSDT\", \"VETUSDT\"\n",
    "]\n",
    "\n",
    "def delivery_report(err, msg):\n",
    "    if err is not None:\n",
    "        print(f\"Message delivery failed: {err}\")\n",
    "    else:\n",
    "        print(f\"Message delivered to {msg.topic()} [{msg.partition()}]\")\n",
    "\n",
    "def on_message(ws, message):\n",
    "    data = json.loads(message)\n",
    "    print(f\"Symbol: {data['s']}, Price: {data['c']}, Volume: {data['v']}\")\n",
    "    \n",
    "    # Log the message and send to Kafka\n",
    "    try:\n",
    "        producer.produce(kafka_topic, key=data['s'], value=json.dumps(data), callback=delivery_report)\n",
    "        producer.flush()  # Ensure the message is sent before proceeding\n",
    "    except Exception as e:\n",
    "        print(f\"Failed to send message to Kafka: {e}\")\n",
    "\n",
    "def on_error(ws, error):\n",
    "    print(error)\n",
    "\n",
    "def on_close(ws):\n",
    "    print(\"### closed ###\")\n",
    "\n",
    "def on_open(ws):\n",
    "    # Subscribe to the ticker for each pair\n",
    "    for pair in top_usdt_pairs:\n",
    "        ws.send(json.dumps({\n",
    "            \"method\": \"SUBSCRIBE\",\n",
    "            \"params\": [f\"{pair.lower()}@ticker\"],\n",
    "            \"id\": 1\n",
    "        }))\n",
    "\n",
    "if __name__ == \"__main__\":\n",
    "    websocket.enableTrace(True)\n",
    "    ws = websocket.WebSocketApp(base_url,\n",
    "                                on_open=on_open,\n",
    "                                on_message=on_message,\n",
    "                                on_error=on_error,\n",
    "                                on_close=on_close)\n",
    "    ws.run_forever()"
   ]
  }
 ],
 "metadata": {
  "kernelspec": {
   "display_name": "Python 3 (ipykernel)",
   "language": "python",
   "name": "python3"
  },
  "language_info": {
   "codemirror_mode": {
    "name": "ipython",
    "version": 3
   },
   "file_extension": ".py",
   "mimetype": "text/x-python",
   "name": "python",
   "nbconvert_exporter": "python",
   "pygments_lexer": "ipython3",
   "version": "3.11.9"
  }
 },
 "nbformat": 4,
 "nbformat_minor": 5
}
