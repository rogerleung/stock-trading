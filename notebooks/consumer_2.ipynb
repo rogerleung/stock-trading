{
 "cells": [
  {
   "cell_type": "code",
   "execution_count": null,
   "id": "5ba56f05-319a-4797-a00b-f1d32ae8cee4",
   "metadata": {},
   "outputs": [
    {
     "name": "stdout",
     "output_type": "stream",
     "text": [
      "Sent buy signal: {'symbol': 'BTCUSDT', 'signal': 'buy', 'price': 104013.02, 'timestamp': 1738285923.60184}\n"
     ]
    }
   ],
   "source": [
    "from kafka import KafkaProducer\n",
    "import json\n",
    "from binance.client import Client\n",
    "from datetime import datetime, timedelta\n",
    "from config import BINANCE_API_KEY, BINANCE_API_SECRET, TRADE_CONFIG\n",
    "import time\n",
    "\n",
    "# Initialize the Binance client\n",
    "# BINANCE_API_KEY = 'your_api_key'  # Replace with your actual API key\n",
    "# BINANCE_API_SECRET = 'your_api_secret'  # Replace with your actual API secret\n",
    "client = Client(BINANCE_API_KEY, BINANCE_API_SECRET)\n",
    "\n",
    "# Kafka configuration\n",
    "kafka_broker = 'localhost:9094'  # Change to your Kafka broker address\n",
    "output_topic = 'buy_signals'       # The topic to send buy signals to\n",
    "\n",
    "# Create a Kafka producer\n",
    "producer = KafkaProducer(\n",
    "    bootstrap_servers=kafka_broker,\n",
    "    value_serializer=lambda x: json.dumps(x).encode('utf-8')\n",
    ")\n",
    "\n",
    "# Function to get aggregated minute prices\n",
    "def get_minute_prices(symbol):\n",
    "    # Get the last 60 minutes of price data\n",
    "    now = datetime.utcnow()\n",
    "    past = now - timedelta(minutes=60)\n",
    "    \n",
    "    klines = client.get_historical_klines(symbol, Client.KLINE_INTERVAL_1MINUTE, past.strftime(\"%d %b %Y %H:%M:%S\"), now.strftime(\"%d %b %Y %H:%M:%S\"))\n",
    "    \n",
    "    # Return the closing prices\n",
    "    closing_prices = [float(kline[4]) for kline in klines]  # Closing price is at index 4\n",
    "    return closing_prices\n",
    "\n",
    "# Main loop to send signals\n",
    "try:\n",
    "    while True:\n",
    "        # Define the symbols you want to monitor\n",
    "        symbols = TRADE_CONFIG\n",
    "\n",
    "        for symbol in symbols:\n",
    "            prices = get_minute_prices(symbol)\n",
    "            \n",
    "            if len(prices) >= 3:\n",
    "                # Calculate the average of the last three closing prices\n",
    "                avg_price = sum(prices[-3:]) / 3\n",
    "                current_price = prices[-1]\n",
    "\n",
    "                # Simple buy signal logic: Buy if current price is less than average\n",
    "                if current_price < avg_price:\n",
    "                    timestamp = datetime.utcnow().timestamp()\n",
    "                    signal = {\n",
    "                        'symbol': symbol,\n",
    "                        'signal': 'buy',\n",
    "                        'price': current_price,\n",
    "                        'timestamp': timestamp\n",
    "                    }\n",
    "                    producer.send(output_topic, value=signal)\n",
    "                    print(f\"Sent buy signal: {signal}\")\n",
    "\n",
    "        # Sleep for a minute before the next check\n",
    "        time.sleep(60)\n",
    "\n",
    "except KeyboardInterrupt:\n",
    "    print(\"Signal processor stopped.\")\n",
    "finally:\n",
    "    producer.close()"
   ]
  }
 ],
 "metadata": {
  "kernelspec": {
   "display_name": "Python 3 (ipykernel)",
   "language": "python",
   "name": "python3"
  },
  "language_info": {
   "codemirror_mode": {
    "name": "ipython",
    "version": 3
   },
   "file_extension": ".py",
   "mimetype": "text/x-python",
   "name": "python",
   "nbconvert_exporter": "python",
   "pygments_lexer": "ipython3",
   "version": "3.11.9"
  }
 },
 "nbformat": 4,
 "nbformat_minor": 5
}
